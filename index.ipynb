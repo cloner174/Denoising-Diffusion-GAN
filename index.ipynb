{
 "cells": [
  {
   "cell_type": "code",
   "execution_count": null,
   "metadata": {},
   "outputs": [],
   "source": [
    "from train_ddgan import main"
   ]
  },
  {
   "cell_type": "code",
   "execution_count": null,
   "metadata": {},
   "outputs": [],
   "source": [
    "class Args:\n",
    "    pass\n",
    "\n",
    "args = Args()\n",
    "args.seed = 1024  # seed used for initialization\n",
    "args.resume = False  # whether to resume checkpoints or start over\n",
    "args.num_workers = 2  # Number of workers for Data Loader\n",
    "\n",
    "\n",
    "args.data_dir = '/content/Drive/MyDrive/cloner174/Luna16/data/Slices'\n",
    "args.dataset = 'custom'\n",
    "args.exp = 'exp1'\n",
    "args.image_size = 64\n",
    "args.num_channels = 3\n",
    "args.num_channels_dae = 128\n",
    "args.num_timesteps = 1\n",
    "args.num_res_blocks = 2\n",
    "args.batch_size = 16\n",
    "args.num_epoch = 2\n",
    "args.ngf = 64\n",
    "args.nz = 100\n",
    "args.z_emb_dim = 256\n",
    "args.n_mlp = 4\n",
    "args.embedding_type = 'positional'\n",
    "args.use_ema = True\n",
    "args.ema_decay = 0.9999\n",
    "args.r1_gamma = 0.02\n",
    "args.lr_d = 1.25e-4\n",
    "args.lr_g = 1.6e-4\n",
    "args.lazy_reg = 15\n",
    "args.num_process_per_node = 1\n",
    "args.ch_mult = [1, 2, 2, 2]\n",
    "args.save_content = True\n",
    "\n",
    "\n",
    "args.num_proc_node = 1\n",
    "args.node_rank = 0\n",
    "args.local_rank = 0\n",
    "args.master_address = '127.0.0.1'\n",
    "args.beta1 = 0.5\n",
    "args.beta2 = 0.9\n",
    "args.no_lr_decay = False\n",
    "args.progressive = 'none'\n",
    "args.progressive_input = 'residual'\n",
    "args.progressive_combine = 'sum'\n",
    "args.attn_resolutions = (16,)\n",
    "args.dropout = 0.0\n",
    "args.resamp_with_conv = True\n",
    "args.conditional = True\n",
    "args.fir = True\n",
    "args.fir_kernel = [1, 3, 3, 1]\n",
    "args.skip_rescale = True\n",
    "args.resblock_type = 'biggan'\n",
    "args.fourier_scale = 16.0\n",
    "args.not_use_tanh = False\n",
    "args.use_geometric = False\n",
    "args.beta_min = 0.1\n",
    "args.beta_max = 20.0"
   ]
  },
  {
   "cell_type": "code",
   "execution_count": null,
   "metadata": {},
   "outputs": [],
   "source": [
    "main(args)"
   ]
  }
 ],
 "metadata": {
  "kernelspec": {
   "display_name": "Python 3",
   "language": "python",
   "name": "python3"
  },
  "language_info": {
   "codemirror_mode": {
    "name": "ipython",
    "version": 3
   },
   "file_extension": ".py",
   "mimetype": "text/x-python",
   "name": "python",
   "nbconvert_exporter": "python",
   "pygments_lexer": "ipython3",
   "version": "3.11.9"
  }
 },
 "nbformat": 4,
 "nbformat_minor": 2
}
